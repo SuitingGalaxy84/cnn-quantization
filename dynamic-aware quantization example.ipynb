{
 "cells": [
  {
   "cell_type": "markdown",
   "metadata": {},
   "source": [
    "<font color=black size=5 face=雅黑>**一. MNIST数据集下载**</font>"
   ]
  },
  {
   "cell_type": "code",
   "execution_count": 1,
   "metadata": {},
   "outputs": [
    {
     "name": "stdout",
     "output_type": "stream",
     "text": [
      "Files already downloaded\n"
     ]
    }
   ],
   "source": [
    "import torch \n",
    "import torch.nn as nn\n",
    "import torchvision.datasets as dsets\n",
    "import torchvision.transforms as transforms\n",
    "from torch.autograd import Variable\n",
    "torch.manual_seed(1111)\n",
    "sequence_length = 28\n",
    "input_size = 28\n",
    "hidden_size = 128\n",
    "num_layers = 2\n",
    "num_classes = 10\n",
    "batch_size = 100\n",
    "num_epochs = 20\n",
    "learning_rate = 0.0001\n",
    "\n",
    "# MNIST Dataset\n",
    "train_dataset = dsets.MNIST(root='data/',\n",
    "                            train=True, \n",
    "                            transform=transforms.ToTensor(),\n",
    "                            download=True)\n",
    "\n",
    "test_dataset = dsets.MNIST(root='data/',\n",
    "                           train=False, \n",
    "                           transform=transforms.ToTensor())\n",
    "\n",
    "# Data Loader (Input Pipeline)\n",
    "train_loader = torch.utils.data.DataLoader(dataset=train_dataset,\n",
    "                                           batch_size=batch_size, \n",
    "                                           shuffle=True)\n",
    "\n",
    "test_loader = torch.utils.data.DataLoader(dataset=test_dataset,\n",
    "                                          batch_size=batch_size, \n",
    "                                          shuffle=False)"
   ]
  },
  {
   "cell_type": "markdown",
   "metadata": {},
   "source": [
    "<font color=black size=5 face=雅黑>**二. 定义RNN模型**</font>"
   ]
  },
  {
   "cell_type": "code",
   "execution_count": 2,
   "metadata": {},
   "outputs": [],
   "source": [
    "class RNNModel(nn.Module):\n",
    "    def __init__(self, input_size, hidden_size, num_layers, num_classes, bias=True):\n",
    "        super(RNNModel, self).__init__()\n",
    "        self.hidden_size = hidden_size\n",
    "        self.num_layers = num_layers\n",
    "        self.lstm = nn.LSTM(input_size, hidden_size, num_layers)\n",
    "        self.fc = nn.Linear(hidden_size, num_classes, bias=bias)\n",
    "    \n",
    "    def forward(self, x):\n",
    "        x = x.transpose(0,1)\n",
    "        x, _ = self.lstm(x)  \n",
    "        x = x[-1]\n",
    "        x = self.fc(x)\n",
    "        return x\n",
    "\n",
    "rnn = RNNModel(input_size, hidden_size, num_layers, num_classes, bias=True)"
   ]
  },
  {
   "cell_type": "markdown",
   "metadata": {},
   "source": [
    "<font color=black size=5 face=雅黑>**三.其他**</font>"
   ]
  },
  {
   "cell_type": "code",
   "execution_count": 3,
   "metadata": {},
   "outputs": [],
   "source": [
    "criterion = nn.CrossEntropyLoss()\n",
    "optimizer = torch.optim.Adam(rnn.parameters(), lr=learning_rate)\n",
    "\n",
    "def accuracy(preds, y):\n",
    "    #round predictions to the closest integer\n",
    "    rounded_preds = torch.max(preds,dim = 1)[1]\n",
    "    correct = (rounded_preds == y).float().sum()\n",
    "    acc = correct / 100\n",
    "    return acc\n",
    "    \n",
    "def train():\n",
    "    epoch_acc = 0\n",
    "    epoch_loss = 0\n",
    "    for i, (images, labels) in enumerate(train_loader):\n",
    "        images = images.view(-1, sequence_length, input_size)\n",
    "        labels = labels\n",
    "        \n",
    "        # Forward + Backward + Optimize\n",
    "        optimizer.zero_grad()\n",
    "        outputs = rnn(images)\n",
    "        loss = criterion(outputs, labels)\n",
    "        acc =  accuracy(outputs , labels)\n",
    "        loss.backward()\n",
    "        optimizer.step()\n",
    "        epoch_acc += acc.item()\n",
    "        epoch_loss += loss.item()\n",
    "    return epoch_loss/len(train_loader),epoch_acc/len(train_loader)\n",
    "\n",
    "def evaluate():\n",
    "    optimizer.zero_grad()\n",
    "    epoch_acc = 0\n",
    "    epoch_loss = 0\n",
    "    for i, (images, labels) in enumerate(test_loader):\n",
    "        images = images.view(-1, sequence_length, input_size)\n",
    "        labels = labels\n",
    "        \n",
    "        # Forward + Backward + Optimize\n",
    "        outputs = rnn(images)\n",
    "        loss = criterion(outputs, labels)\n",
    "        acc =  accuracy(outputs , labels)\n",
    "        epoch_acc += acc.item()\n",
    "        epoch_loss += loss.item()\n",
    "    return epoch_loss/len(test_loader),epoch_acc/len(test_loader)"
   ]
  },
  {
   "cell_type": "markdown",
   "metadata": {},
   "source": [
    "<font color=black size=5 face=雅黑>**四.正常的训练**</font>"
   ]
  },
  {
   "cell_type": "code",
   "execution_count": 4,
   "metadata": {},
   "outputs": [
    {
     "data": {
      "text/plain": [
       "\"num_epochs =5\\n   for epoch in range(num_epochs):\\n        train_loss,tran_acc = train()\\n        evaluate_loss,evaluate_acc = evaluate()\\n        print(f'Epoch: {epoch+1:02}')\\n        print(f'\\tTrain Loss: {train_loss*100:.3f} | Train Acc: {tran_acc*100:.2f}%')\\n        print(f'\\tEvaluate Loss: {evaluate_loss*100:.3f} | Evaluate Acc: {evaluate_acc*100:.2f}%')\""
      ]
     },
     "execution_count": 4,
     "metadata": {},
     "output_type": "execute_result"
    }
   ],
   "source": [
    "'''num_epochs =5\n",
    "   for epoch in range(num_epochs):\n",
    "        train_loss,tran_acc = train()\n",
    "        evaluate_loss,evaluate_acc = evaluate()\n",
    "        print(f'Epoch: {epoch+1:02}')\n",
    "        print(f'\\tTrain Loss: {train_loss*100:.3f} | Train Acc: {tran_acc*100:.2f}%')\n",
    "        print(f'\\tEvaluate Loss: {evaluate_loss*100:.3f} | Evaluate Acc: {evaluate_acc*100:.2f}%')'''"
   ]
  },
  {
   "cell_type": "markdown",
   "metadata": {},
   "source": [
    "<font color=black size=5 face=雅黑>**五.量化意识训练**</font>"
   ]
  },
  {
   "cell_type": "code",
   "execution_count": 5,
   "metadata": {},
   "outputs": [
    {
     "name": "stderr",
     "output_type": "stream",
     "text": [
      "D:\\Anaconda3\\envs\\NLP\\lib\\site-packages\\torch\\quantization\\observer.py:121: UserWarning: Please use quant_min and quant_max to specify the range for observers.                     reduce_range will be deprecated in a future release of PyTorch.\n",
      "  reduce_range will be deprecated in a future release of PyTorch.\"\n"
     ]
    },
    {
     "data": {
      "text/plain": [
       "RNNModel(\n",
       "  (lstm): LSTM(\n",
       "    28, 128, num_layers=2\n",
       "    (activation_post_process): FakeQuantize(\n",
       "      fake_quant_enabled=tensor([1], dtype=torch.uint8), observer_enabled=tensor([1], dtype=torch.uint8),            quant_min=0, quant_max=255, dtype=torch.quint8, qscheme=torch.per_tensor_affine, ch_axis=-1,         scale=tensor([1.]), zero_point=tensor([0])\n",
       "      (activation_post_process): MovingAverageMinMaxObserver(min_val=inf, max_val=-inf)\n",
       "    )\n",
       "  )\n",
       "  (fc): Linear(\n",
       "    in_features=128, out_features=10, bias=True\n",
       "    (weight_fake_quant): FakeQuantize(\n",
       "      fake_quant_enabled=tensor([1], dtype=torch.uint8), observer_enabled=tensor([1], dtype=torch.uint8),            quant_min=-128, quant_max=127, dtype=torch.qint8, qscheme=torch.per_channel_symmetric, ch_axis=0,         scale=tensor([1.]), zero_point=tensor([0])\n",
       "      (activation_post_process): MovingAveragePerChannelMinMaxObserver(min_val=tensor([]), max_val=tensor([]))\n",
       "    )\n",
       "    (activation_post_process): FakeQuantize(\n",
       "      fake_quant_enabled=tensor([1], dtype=torch.uint8), observer_enabled=tensor([1], dtype=torch.uint8),            quant_min=0, quant_max=255, dtype=torch.quint8, qscheme=torch.per_tensor_affine, ch_axis=-1,         scale=tensor([1.]), zero_point=tensor([0])\n",
       "      (activation_post_process): MovingAverageMinMaxObserver(min_val=inf, max_val=-inf)\n",
       "    )\n",
       "  )\n",
       ")"
      ]
     },
     "execution_count": 5,
     "metadata": {},
     "output_type": "execute_result"
    }
   ],
   "source": [
    "rnn.qconfig = torch.quantization.get_default_qat_qconfig('fbgemm')\n",
    "torch.quantization.prepare_qat(rnn)"
   ]
  },
  {
   "cell_type": "markdown",
   "metadata": {},
   "source": [
    "<font color=black size=5 face=雅黑>**六.量化意识训练**</font>"
   ]
  },
  {
   "cell_type": "code",
   "execution_count": 6,
   "metadata": {},
   "outputs": [
    {
     "name": "stdout",
     "output_type": "stream",
     "text": [
      "Epoch: 01\n",
      "\tTrain Loss: 128.822 | Train Acc: 56.82%\n",
      "\tEvaluate Loss: 50.556 | Evaluate Acc: 84.93%\n",
      "Epoch: 02\n",
      "\tTrain Loss: 38.553 | Train Acc: 88.80%\n",
      "\tEvaluate Loss: 30.220 | Evaluate Acc: 91.10%\n",
      "Epoch: 03\n",
      "\tTrain Loss: 25.486 | Train Acc: 92.56%\n",
      "\tEvaluate Loss: 21.035 | Evaluate Acc: 93.88%\n",
      "Epoch: 04\n",
      "\tTrain Loss: 19.743 | Train Acc: 94.04%\n",
      "\tEvaluate Loss: 17.760 | Evaluate Acc: 94.81%\n",
      "Epoch: 05\n",
      "\tTrain Loss: 16.679 | Train Acc: 95.02%\n",
      "\tEvaluate Loss: 14.681 | Evaluate Acc: 95.69%\n"
     ]
    }
   ],
   "source": [
    "num_epochs =5\n",
    "for epoch in range(num_epochs):\n",
    "    train_loss,tran_acc = train()\n",
    "    evaluate_loss,evaluate_acc = evaluate()\n",
    "    print(f'Epoch: {epoch+1:02}')\n",
    "    print(f'\\tTrain Loss: {train_loss*100:.3f} | Train Acc: {tran_acc*100:.2f}%')\n",
    "    print(f'\\tEvaluate Loss: {evaluate_loss*100:.3f} | Evaluate Acc: {evaluate_acc*100:.2f}%')"
   ]
  }
 ],
 "metadata": {
  "kernelspec": {
   "display_name": "Python 3",
   "language": "python",
   "name": "python3"
  },
  "language_info": {
   "codemirror_mode": {
    "name": "ipython",
    "version": 3
   },
   "file_extension": ".py",
   "mimetype": "text/x-python",
   "name": "python",
   "nbconvert_exporter": "python",
   "pygments_lexer": "ipython3",
   "version": "3.7.0"
  }
 },
 "nbformat": 4,
 "nbformat_minor": 4
}
